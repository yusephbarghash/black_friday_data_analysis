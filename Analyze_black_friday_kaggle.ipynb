{
 "cells": [
  {
   "cell_type": "markdown",
   "id": "ac982585",
   "metadata": {},
   "source": [
    "analyze the famous kaggle black_friday.csv :\n",
    "https://www.kaggle.com/datasets/sdolezel/black-friday"
   ]
  },
  {
   "cell_type": "code",
   "execution_count": null,
   "id": "c13022c4",
   "metadata": {},
   "outputs": [],
   "source": [
    "import numpy as np\n",
    "import pandas as pd\n",
    "import plotly.express as px\n",
    "import matplotlib.pyplot as plt\n",
    "import seaborn as sns\n",
    "\n",
    "%matplotlib inline\n",
    "sns.set(rc={'figure.figsize': [7, 5]}, font_scale=1.3)"
   ]
  },
  {
   "cell_type": "code",
   "execution_count": null,
   "id": "0eedeeea",
   "metadata": {},
   "outputs": [],
   "source": [
    "df = pd.read_csv('black_friday.csv')"
   ]
  },
  {
   "cell_type": "markdown",
   "id": "a30659fd",
   "metadata": {},
   "source": [
    "## Gitting the first 5 records : "
   ]
  },
  {
   "cell_type": "code",
   "execution_count": null,
   "id": "f7e633de",
   "metadata": {},
   "outputs": [],
   "source": [
    "df.head()"
   ]
  },
  {
   "cell_type": "markdown",
   "id": "eb61d749",
   "metadata": {},
   "source": [
    "## Shape of data (rows, columns) : "
   ]
  },
  {
   "cell_type": "code",
   "execution_count": null,
   "id": "f694b72d",
   "metadata": {},
   "outputs": [],
   "source": [
    "df.shape"
   ]
  },
  {
   "cell_type": "markdown",
   "id": "83d2bf1b",
   "metadata": {},
   "source": [
    "## Checking the data types : "
   ]
  },
  {
   "cell_type": "code",
   "execution_count": null,
   "id": "c643ca34",
   "metadata": {},
   "outputs": [],
   "source": [
    "df.info()"
   ]
  },
  {
   "cell_type": "markdown",
   "id": "22411701",
   "metadata": {},
   "source": [
    "## Check duplicated values :"
   ]
  },
  {
   "cell_type": "code",
   "execution_count": null,
   "id": "f189c724",
   "metadata": {},
   "outputs": [],
   "source": [
    "df.duplicated().sum()"
   ]
  },
  {
   "cell_type": "markdown",
   "id": "13698613",
   "metadata": {},
   "source": [
    "## Checking missing values : "
   ]
  },
  {
   "cell_type": "code",
   "execution_count": null,
   "id": "da6973c7",
   "metadata": {},
   "outputs": [],
   "source": [
    "df.isnull().sum()"
   ]
  },
  {
   "cell_type": "markdown",
   "id": "d247b2ec",
   "metadata": {},
   "source": [
    "-----------------------------------------------------------------"
   ]
  },
  {
   "cell_type": "markdown",
   "id": "70a18eab",
   "metadata": {},
   "source": [
    "## Applying univariate on each column : "
   ]
  },
  {
   "cell_type": "markdown",
   "id": "face55d5",
   "metadata": {},
   "source": [
    "### `User_ID` column : "
   ]
  },
  {
   "cell_type": "code",
   "execution_count": null,
   "id": "6c3169de",
   "metadata": {},
   "outputs": [],
   "source": [
    "len(df['User_ID'].unique().tolist())"
   ]
  },
  {
   "cell_type": "code",
   "execution_count": null,
   "id": "4f0175cd",
   "metadata": {},
   "outputs": [],
   "source": [
    "df['User_ID'].value_counts(dropna=False)"
   ]
  },
  {
   "cell_type": "markdown",
   "id": "9f58f47b",
   "metadata": {},
   "source": [
    "----------------------------------------------------------------------"
   ]
  },
  {
   "cell_type": "markdown",
   "id": "af1409a1",
   "metadata": {},
   "source": [
    "### `Product_ID` column :"
   ]
  },
  {
   "cell_type": "code",
   "execution_count": null,
   "id": "cc554c95",
   "metadata": {},
   "outputs": [],
   "source": [
    "len(df['Product_ID'].unique().tolist())"
   ]
  },
  {
   "cell_type": "code",
   "execution_count": null,
   "id": "5927b8d8",
   "metadata": {},
   "outputs": [],
   "source": [
    "df['Product_ID'].value_counts(dropna=False)"
   ]
  },
  {
   "cell_type": "markdown",
   "id": "7c30a5b6",
   "metadata": {},
   "source": [
    "----------------------------------------------------------------------"
   ]
  },
  {
   "cell_type": "markdown",
   "id": "98d7cda5",
   "metadata": {},
   "source": [
    "### `Gender` column : "
   ]
  },
  {
   "cell_type": "code",
   "execution_count": null,
   "id": "085d0b1a",
   "metadata": {},
   "outputs": [],
   "source": [
    "df['Gender'].unique()"
   ]
  },
  {
   "cell_type": "code",
   "execution_count": null,
   "id": "11452901",
   "metadata": {},
   "outputs": [],
   "source": [
    "df['Gender'].value_counts()"
   ]
  },
  {
   "cell_type": "code",
   "execution_count": null,
   "id": "270103a5",
   "metadata": {},
   "outputs": [],
   "source": [
    "px.histogram(data_frame=df, x='Gender', text_auto=True).update_xaxes(categoryorder = \"total descending\")"
   ]
  },
  {
   "cell_type": "markdown",
   "id": "30790560",
   "metadata": {},
   "source": [
    "----------------------------------------------------------------------"
   ]
  },
  {
   "cell_type": "markdown",
   "id": "da37dc18",
   "metadata": {},
   "source": [
    "### `Age` column : "
   ]
  },
  {
   "cell_type": "code",
   "execution_count": null,
   "id": "1f4f586a",
   "metadata": {},
   "outputs": [],
   "source": [
    "df['Age'].unique().tolist()"
   ]
  },
  {
   "cell_type": "code",
   "execution_count": null,
   "id": "100c75f9",
   "metadata": {},
   "outputs": [],
   "source": [
    "df['Age'].value_counts(dropna=False)"
   ]
  },
  {
   "cell_type": "code",
   "execution_count": null,
   "id": "869e1a0b",
   "metadata": {},
   "outputs": [],
   "source": [
    "px.histogram(data_frame=df, x='Age', text_auto=True).update_xaxes(categoryorder = \"total descending\")"
   ]
  },
  {
   "cell_type": "markdown",
   "id": "99402bac",
   "metadata": {},
   "source": [
    "----------------------------------------------------------------------"
   ]
  },
  {
   "cell_type": "markdown",
   "id": "eca6a943",
   "metadata": {},
   "source": [
    "### `Occupation` column : "
   ]
  },
  {
   "cell_type": "code",
   "execution_count": null,
   "id": "935f8b46",
   "metadata": {},
   "outputs": [],
   "source": [
    "sorted(df['Occupation'].unique().tolist())"
   ]
  },
  {
   "cell_type": "code",
   "execution_count": null,
   "id": "14ef9f5e",
   "metadata": {},
   "outputs": [],
   "source": [
    "df['Occupation'].value_counts(dropna=False)"
   ]
  },
  {
   "cell_type": "code",
   "execution_count": null,
   "id": "7f6ec54e",
   "metadata": {},
   "outputs": [],
   "source": [
    "px.histogram(data_frame=df, x='Occupation', nbins=21)"
   ]
  },
  {
   "cell_type": "code",
   "execution_count": null,
   "id": "1461eaf0",
   "metadata": {},
   "outputs": [],
   "source": [
    "px.box(data_frame=df, x='Occupation')"
   ]
  },
  {
   "cell_type": "markdown",
   "id": "567a8b6e",
   "metadata": {},
   "source": [
    "----------------------------------------------------------------------"
   ]
  },
  {
   "cell_type": "markdown",
   "id": "f1f2f45e",
   "metadata": {},
   "source": [
    "### `City_Category` column : "
   ]
  },
  {
   "cell_type": "code",
   "execution_count": null,
   "id": "9865a18a",
   "metadata": {},
   "outputs": [],
   "source": [
    "df['City_Category'].unique()"
   ]
  },
  {
   "cell_type": "code",
   "execution_count": null,
   "id": "dd170f56",
   "metadata": {},
   "outputs": [],
   "source": [
    "df['City_Category'].value_counts()"
   ]
  },
  {
   "cell_type": "code",
   "execution_count": null,
   "id": "e4c2b2de",
   "metadata": {},
   "outputs": [],
   "source": [
    "px.histogram(data_frame=df, x='City_Category', text_auto=True).update_xaxes(categoryorder = \"total descending\")"
   ]
  },
  {
   "cell_type": "markdown",
   "id": "4bb96bf2",
   "metadata": {},
   "source": [
    "----------------------------------------------------------------------"
   ]
  },
  {
   "cell_type": "markdown",
   "id": "9683e11f",
   "metadata": {},
   "source": [
    "### `Stay_In_Current_City_Years` column : "
   ]
  },
  {
   "cell_type": "code",
   "execution_count": null,
   "id": "953f041c",
   "metadata": {},
   "outputs": [],
   "source": [
    "df['Stay_In_Current_City_Years'].unique()"
   ]
  },
  {
   "cell_type": "code",
   "execution_count": null,
   "id": "1c5a43df",
   "metadata": {},
   "outputs": [],
   "source": [
    "df['Stay_In_Current_City_Years'].value_counts(dropna=False)"
   ]
  },
  {
   "cell_type": "code",
   "execution_count": null,
   "id": "e8aaf946",
   "metadata": {},
   "outputs": [],
   "source": [
    "px.histogram(data_frame=df, x='Stay_In_Current_City_Years', text_auto=True).update_xaxes(categoryorder = \"total descending\")"
   ]
  },
  {
   "cell_type": "markdown",
   "id": "46951101",
   "metadata": {},
   "source": [
    "----------------------------------------------------------------------"
   ]
  },
  {
   "cell_type": "markdown",
   "id": "804422e2",
   "metadata": {},
   "source": [
    "### `Marital_Status` column : "
   ]
  },
  {
   "cell_type": "code",
   "execution_count": null,
   "id": "efc6c022",
   "metadata": {},
   "outputs": [],
   "source": [
    "df['Marital_Status'].unique()"
   ]
  },
  {
   "cell_type": "code",
   "execution_count": null,
   "id": "910bb44b",
   "metadata": {},
   "outputs": [],
   "source": [
    "df['Marital_Status'].value_counts()"
   ]
  },
  {
   "cell_type": "code",
   "execution_count": null,
   "id": "c98e2e65",
   "metadata": {},
   "outputs": [],
   "source": [
    "px.histogram(data_frame=df, x='Marital_Status', nbins=2)"
   ]
  },
  {
   "cell_type": "markdown",
   "id": "cbc5637d",
   "metadata": {},
   "source": [
    "----------------------------------------------------------------------"
   ]
  },
  {
   "cell_type": "markdown",
   "id": "2ec29a15",
   "metadata": {},
   "source": [
    "### `Product_Category_1` column : "
   ]
  },
  {
   "cell_type": "code",
   "execution_count": null,
   "id": "ab75fb83",
   "metadata": {},
   "outputs": [],
   "source": [
    "sorted(df['Product_Category_1'].unique().tolist())"
   ]
  },
  {
   "cell_type": "code",
   "execution_count": null,
   "id": "63077e73",
   "metadata": {},
   "outputs": [],
   "source": [
    "df['Product_Category_1'].value_counts(dropna=False)"
   ]
  },
  {
   "cell_type": "code",
   "execution_count": null,
   "id": "b8309e60",
   "metadata": {},
   "outputs": [],
   "source": [
    "px.box(data_frame=df, x='Product_Category_1')"
   ]
  },
  {
   "cell_type": "code",
   "execution_count": null,
   "id": "0b91ad46",
   "metadata": {},
   "outputs": [],
   "source": [
    "#Outliers:\n",
    "df[(df['Product_Category_1'] == 19) | (df['Product_Category_1'] == 20)]"
   ]
  },
  {
   "cell_type": "code",
   "execution_count": null,
   "id": "b4106403",
   "metadata": {},
   "outputs": [],
   "source": [
    "sns.boxplot(data=df, x='Product_Category_1')"
   ]
  },
  {
   "cell_type": "markdown",
   "id": "843ef125",
   "metadata": {},
   "source": [
    "----------------------------------------------------------------------"
   ]
  },
  {
   "cell_type": "markdown",
   "id": "429b2507",
   "metadata": {},
   "source": [
    "### `Product_Category_2` column : "
   ]
  },
  {
   "cell_type": "code",
   "execution_count": null,
   "id": "a0efd581",
   "metadata": {},
   "outputs": [],
   "source": [
    "sorted(df['Product_Category_2'].unique().tolist())"
   ]
  },
  {
   "cell_type": "code",
   "execution_count": null,
   "id": "8a69ecf0",
   "metadata": {},
   "outputs": [],
   "source": [
    "df['Product_Category_2'].value_counts(dropna=False)"
   ]
  },
  {
   "cell_type": "code",
   "execution_count": null,
   "id": "8374a733",
   "metadata": {},
   "outputs": [],
   "source": [
    "df['Product_Category_2'].isnull().sum()"
   ]
  },
  {
   "cell_type": "markdown",
   "id": "b6c49b59",
   "metadata": {},
   "source": [
    "#### this '`Product_Category_2`' column need action on the above 30% of the missing data on it  \n",
    "* we will fill the missing data in this column with value `zero` :"
   ]
  },
  {
   "cell_type": "code",
   "execution_count": null,
   "id": "3c17e36f",
   "metadata": {},
   "outputs": [],
   "source": [
    "#before filling missing data with 0.0 value:\n",
    "df['Product_Category_2'].value_counts(dropna=False, normalize=True)*100"
   ]
  },
  {
   "cell_type": "code",
   "execution_count": null,
   "id": "2184d8bb",
   "metadata": {},
   "outputs": [],
   "source": [
    "df['Product_Category_2'].fillna(0, inplace=True)"
   ]
  },
  {
   "cell_type": "code",
   "execution_count": null,
   "id": "2386d38e",
   "metadata": {},
   "outputs": [],
   "source": [
    "#After filling the missing data :\n",
    "df['Product_Category_2'].value_counts(dropna=False, normalize=True)*100"
   ]
  },
  {
   "cell_type": "code",
   "execution_count": null,
   "id": "50970678",
   "metadata": {},
   "outputs": [],
   "source": [
    "#befor filling the missing value :\n",
    "px.box(data_frame=df, x='Product_Category_2')"
   ]
  },
  {
   "cell_type": "code",
   "execution_count": null,
   "id": "14aee44b",
   "metadata": {},
   "outputs": [],
   "source": [
    "#After filling the missing values:\n",
    "px.box(data_frame=df, x='Product_Category_2')"
   ]
  },
  {
   "cell_type": "markdown",
   "id": "67fa1470",
   "metadata": {},
   "source": [
    "----------------------------------------------------------------------"
   ]
  },
  {
   "cell_type": "markdown",
   "id": "ab5c4d46",
   "metadata": {},
   "source": [
    "### `Product_Category_3` column : "
   ]
  },
  {
   "cell_type": "code",
   "execution_count": null,
   "id": "73364862",
   "metadata": {},
   "outputs": [],
   "source": [
    "sorted(df['Product_Category_3'].unique().tolist())"
   ]
  },
  {
   "cell_type": "code",
   "execution_count": null,
   "id": "ad2f0abd",
   "metadata": {},
   "outputs": [],
   "source": [
    "df['Product_Category_3'].value_counts(dropna=False)"
   ]
  },
  {
   "cell_type": "markdown",
   "id": "7b2094b6",
   "metadata": {},
   "source": [
    "#### this '`Product_Category_3`' column need action on the above 69% of the missing data on it  ↆ\n",
    "* we will fill the missing data in this column with value `zero` :"
   ]
  },
  {
   "cell_type": "code",
   "execution_count": null,
   "id": "7f54e793",
   "metadata": {},
   "outputs": [],
   "source": [
    "# before filling missing data with 0.0 value : \n",
    "df['Product_Category_3'].value_counts(dropna=False, normalize=True)*100"
   ]
  },
  {
   "cell_type": "code",
   "execution_count": null,
   "id": "e49a02dd",
   "metadata": {},
   "outputs": [],
   "source": [
    "# fillinh the missing data :\n",
    "df['Product_Category_3'].fillna(0, inplace=True)"
   ]
  },
  {
   "cell_type": "code",
   "execution_count": null,
   "id": "a5815bb4",
   "metadata": {},
   "outputs": [],
   "source": [
    "# After filling missing data with 0.0 value : \n",
    "df['Product_Category_3'].value_counts(dropna=False, normalize=True)*100"
   ]
  },
  {
   "cell_type": "code",
   "execution_count": null,
   "id": "0afa1650",
   "metadata": {},
   "outputs": [],
   "source": [
    "#Before filling the missing data with 0.0 value:\n",
    "px.box(data_frame=df, x='Product_Category_3')"
   ]
  },
  {
   "cell_type": "code",
   "execution_count": null,
   "id": "838c0e6e",
   "metadata": {},
   "outputs": [],
   "source": [
    "# After filling the missing data with 0.0 value:\n",
    "px.box(data_frame=df, x='Product_Category_3')"
   ]
  },
  {
   "cell_type": "markdown",
   "id": "0262fb08",
   "metadata": {},
   "source": [
    "----------------------------------------------------------------------"
   ]
  },
  {
   "cell_type": "markdown",
   "id": "35ce937b",
   "metadata": {},
   "source": [
    "# Checking the missing Value again : "
   ]
  },
  {
   "cell_type": "code",
   "execution_count": null,
   "id": "ec2e98de",
   "metadata": {},
   "outputs": [],
   "source": [
    "df.isnull().sum()"
   ]
  },
  {
   "cell_type": "markdown",
   "id": "4388a0f7",
   "metadata": {},
   "source": [
    "----------------------------------------------------------------------"
   ]
  },
  {
   "cell_type": "markdown",
   "id": "7e3ce62a",
   "metadata": {},
   "source": [
    "### `Purchase` column : "
   ]
  },
  {
   "cell_type": "code",
   "execution_count": null,
   "id": "834e2c6f",
   "metadata": {
    "scrolled": true
   },
   "outputs": [],
   "source": [
    "sorted(df['Purchase'].unique().tolist())"
   ]
  },
  {
   "cell_type": "code",
   "execution_count": null,
   "id": "e91ce528",
   "metadata": {},
   "outputs": [],
   "source": [
    "len(df['Purchase'].unique().tolist())"
   ]
  },
  {
   "cell_type": "code",
   "execution_count": null,
   "id": "55ddbc0a",
   "metadata": {},
   "outputs": [],
   "source": [
    "df['Purchase'].value_counts(dropna=False)"
   ]
  },
  {
   "cell_type": "code",
   "execution_count": null,
   "id": "26f9757b",
   "metadata": {},
   "outputs": [],
   "source": [
    "df['Purchase'].describe()"
   ]
  },
  {
   "cell_type": "code",
   "execution_count": null,
   "id": "15a46ca4",
   "metadata": {},
   "outputs": [],
   "source": [
    "df[df['Purchase'] == df['Purchase'].max()]"
   ]
  },
  {
   "cell_type": "code",
   "execution_count": null,
   "id": "7bf10fdb",
   "metadata": {},
   "outputs": [],
   "source": [
    "df[df['Purchase'] == df['Purchase'].min()]"
   ]
  },
  {
   "cell_type": "markdown",
   "id": "e7340a6a",
   "metadata": {},
   "source": [
    "----------------------------------------------------------------------"
   ]
  },
  {
   "cell_type": "markdown",
   "id": "ab1d2e35",
   "metadata": {},
   "source": [
    "----------------------------------------------------------------------"
   ]
  },
  {
   "cell_type": "markdown",
   "id": "025fd58e",
   "metadata": {},
   "source": [
    "## 1) What is the total number of each gender in each age ?"
   ]
  },
  {
   "cell_type": "code",
   "execution_count": null,
   "id": "06f5080d",
   "metadata": {},
   "outputs": [],
   "source": [
    "px.histogram(data_frame=df, x='Age', color='Gender', barmode='group', text_auto=True).update_xaxes(categoryorder = \"total descending\")"
   ]
  },
  {
   "cell_type": "code",
   "execution_count": null,
   "id": "50c52abe",
   "metadata": {},
   "outputs": [],
   "source": [
    "pd.pivot_table(data=df , index = 'Age' , columns = \"Gender\" , values=\"User_ID\",aggfunc=np.count_nonzero)"
   ]
  },
  {
   "cell_type": "markdown",
   "id": "9a757602",
   "metadata": {},
   "source": [
    "---------------------------------------------------------------------------------------"
   ]
  },
  {
   "cell_type": "markdown",
   "id": "038de4a4",
   "metadata": {},
   "source": [
    "## 2) What is the total purchases that done by female users and above 15 in `Occupation` column?"
   ]
  },
  {
   "cell_type": "code",
   "execution_count": null,
   "id": "22b26624",
   "metadata": {},
   "outputs": [],
   "source": [
    "df[(df['Gender'] == 'F') & (df['Occupation'] > 15)]['Purchase'].sum()"
   ]
  },
  {
   "cell_type": "markdown",
   "id": "de462996",
   "metadata": {},
   "source": [
    "---------------------------------------------------------------------------------------"
   ]
  },
  {
   "cell_type": "markdown",
   "id": "696fd5f3",
   "metadata": {},
   "source": [
    "## 3) How many 55+ aged males that staied less than a year in their  current city ?"
   ]
  },
  {
   "cell_type": "code",
   "execution_count": null,
   "id": "f9c814b1",
   "metadata": {},
   "outputs": [],
   "source": [
    "df_m_55 = df[(df['Gender'] == 'M') & (df['Age'] == '55+')]"
   ]
  },
  {
   "cell_type": "code",
   "execution_count": null,
   "id": "329f10f4",
   "metadata": {},
   "outputs": [],
   "source": [
    "df_m_55[df_m_55['Stay_In_Current_City_Years'] == '0']['User_ID'].count()"
   ]
  },
  {
   "cell_type": "markdown",
   "id": "b4a6315e",
   "metadata": {},
   "source": [
    "---------------------------------------------------------------------------------------"
   ]
  },
  {
   "cell_type": "markdown",
   "id": "9f74238e",
   "metadata": {},
   "source": [
    "## 4) How many married of both genders in each age range that got purchases in all categories? and What is the cheapest product they bought?"
   ]
  },
  {
   "cell_type": "code",
   "execution_count": null,
   "id": "21fe6389",
   "metadata": {},
   "outputs": [],
   "source": [
    "df_cat_2_and_3 = df[(df['Product_Category_2']>0) & (df['Product_Category_3']>0)]"
   ]
  },
  {
   "cell_type": "code",
   "execution_count": null,
   "id": "f8794af2",
   "metadata": {},
   "outputs": [],
   "source": [
    "all_cat_marrd_df = df_cat_2_and_3[(df_cat_2_and_3['Marital_Status'] == 1)]"
   ]
  },
  {
   "cell_type": "code",
   "execution_count": null,
   "id": "ca44a01b",
   "metadata": {},
   "outputs": [],
   "source": [
    "all_cat_marrd_df['Purchase'].describe()"
   ]
  },
  {
   "cell_type": "code",
   "execution_count": null,
   "id": "c893eee6",
   "metadata": {},
   "outputs": [],
   "source": [
    "pd.pivot_table(data=all_cat_marrd_df , index = 'Age' , columns = \"Gender\" , values=\"User_ID\",aggfunc=np.count_nonzero)"
   ]
  },
  {
   "cell_type": "code",
   "execution_count": null,
   "id": "d638d011",
   "metadata": {},
   "outputs": [],
   "source": [
    "px.histogram(data_frame=all_cat_marrd_df, x='Age', color='Gender', text_auto=True, barmode='group').update_xaxes(categoryorder = \"total descending\")"
   ]
  },
  {
   "cell_type": "code",
   "execution_count": null,
   "id": "d103a36f",
   "metadata": {},
   "outputs": [],
   "source": [
    "all_cat_marrd_df[all_cat_marrd_df['Purchase'] == all_cat_marrd_df['Purchase'].min()]"
   ]
  },
  {
   "cell_type": "markdown",
   "id": "04b27bcf",
   "metadata": {},
   "source": [
    "---------------------------------------------------------------------------------------"
   ]
  },
  {
   "cell_type": "markdown",
   "id": "8b474909",
   "metadata": {},
   "source": [
    "## 5) How many single (unmarried) users ages above 55 years?"
   ]
  },
  {
   "cell_type": "code",
   "execution_count": null,
   "id": "1ed8d796",
   "metadata": {},
   "outputs": [],
   "source": [
    "abv_55_singl = df[(df['Marital_Status'] == 0) & (df['Age'] == '55+')]"
   ]
  },
  {
   "cell_type": "code",
   "execution_count": null,
   "id": "c627e296",
   "metadata": {},
   "outputs": [],
   "source": [
    "abv_55_singl['Gender'].value_counts()"
   ]
  },
  {
   "cell_type": "code",
   "execution_count": null,
   "id": "02566703",
   "metadata": {},
   "outputs": [],
   "source": [
    "px.histogram(data_frame=abv_55_singl, x='Gender', text_auto=True)"
   ]
  },
  {
   "cell_type": "code",
   "execution_count": null,
   "id": "cbf6092f",
   "metadata": {},
   "outputs": [],
   "source": [
    "px.histogram(data_frame=df, x='Stay_In_Current_City_Years', color='City_Category', barmode='group')"
   ]
  },
  {
   "cell_type": "markdown",
   "id": "0594171e",
   "metadata": {},
   "source": [
    "---------------------------------------------------------------------------------------"
   ]
  },
  {
   "cell_type": "markdown",
   "id": "f32734de",
   "metadata": {},
   "source": [
    "## 6) What is the average purchases of those users that stayed more than 4 years in their cities that categorized `A` ?"
   ]
  },
  {
   "cell_type": "code",
   "execution_count": null,
   "id": "96278d4a",
   "metadata": {},
   "outputs": [],
   "source": [
    "df[(df['City_Category'] == 'A') & (df['Stay_In_Current_City_Years'] == '4+')]['Purchase'].mean()"
   ]
  },
  {
   "cell_type": "markdown",
   "id": "4230e3c9",
   "metadata": {},
   "source": [
    "---------------------------------------------------------------------------------------"
   ]
  },
  {
   "cell_type": "markdown",
   "id": "2a07d73d",
   "metadata": {},
   "source": [
    "## 7) How many users purchases more than 800 times?"
   ]
  },
  {
   "cell_type": "code",
   "execution_count": null,
   "id": "f999453c",
   "metadata": {},
   "outputs": [],
   "source": [
    "user_df_abv_800 = df['User_ID'].value_counts().reset_index()"
   ]
  },
  {
   "cell_type": "code",
   "execution_count": null,
   "id": "2ab7a653",
   "metadata": {},
   "outputs": [],
   "source": [
    "user_df_abv_800 = user_df_abv_800.rename(columns={'index':'User_Id', 'User_ID':'Count'})"
   ]
  },
  {
   "cell_type": "code",
   "execution_count": null,
   "id": "f050cde0",
   "metadata": {
    "scrolled": true
   },
   "outputs": [],
   "source": [
    "user_df_abv_800[user_df_abv_800['Count']>800]['User_Id'].count()"
   ]
  },
  {
   "cell_type": "markdown",
   "id": "8180bd02",
   "metadata": {},
   "source": [
    "----------------------------------------------------------------------"
   ]
  },
  {
   "cell_type": "code",
   "execution_count": null,
   "id": "9bcdb36a",
   "metadata": {},
   "outputs": [],
   "source": [
    "df"
   ]
  },
  {
   "cell_type": "markdown",
   "id": "c142deae",
   "metadata": {},
   "source": [
    "## The preprocessing is done in the other Notebook `preprocessing_black_friday.ipynb`"
   ]
  }
 ],
 "metadata": {
  "kernelspec": {
   "display_name": "Python 3 (ipykernel)",
   "language": "python",
   "name": "python3"
  },
  "language_info": {
   "codemirror_mode": {
    "name": "ipython",
    "version": 3
   },
   "file_extension": ".py",
   "mimetype": "text/x-python",
   "name": "python",
   "nbconvert_exporter": "python",
   "pygments_lexer": "ipython3",
   "version": "3.10.8"
  }
 },
 "nbformat": 4,
 "nbformat_minor": 5
}
